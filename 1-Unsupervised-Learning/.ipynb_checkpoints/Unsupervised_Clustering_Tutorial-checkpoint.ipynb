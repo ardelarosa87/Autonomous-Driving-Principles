{
 "cells": [
  {
   "cell_type": "code",
   "execution_count": 1,
   "id": "4c8545d3-63e4-4ee1-8db8-62236976046b",
   "metadata": {},
   "outputs": [
    {
     "name": "stdout",
     "output_type": "stream",
     "text": [
      "Jupyter environment detected. Enabling Open3D WebVisualizer.\n",
      "[Open3D INFO] WebRTC GUI backend enabled.\n",
      "[Open3D INFO] WebRTCWindowSystem: HTTP handshake server disabled.\n"
     ]
    }
   ],
   "source": [
    "#Let us first import necessary libararies\n",
    "import numpy as np\n",
    "import glob\n",
    "import open3d as o3d"
   ]
  },
  {
   "cell_type": "markdown",
   "id": "106d31b3-79fa-416e-9bae-56de4afe8be3",
   "metadata": {},
   "source": [
    "## Data Conversion\r\n",
    "\r\n",
    "The lidar data from the KITTI dataset is in `.bin` format which is currently not an accepted format in Open3D, hence this is converted to its `.pcd` equivalent. This has already been done for you and is located in the DATA folder of the main repo. However, should you come to work with the KITTI dataset yourself, here is the code to convert `.bin` files to `.pcd`, courtesy of [this Gist](https://gist.github.com/HTLife/e8f1c4ff1737710e34258ef965b48344).\r\n",
    "\r\n",
    "However, this version has some errors, and thus, I have modified it for your convenience:\r\n",
    "\r\n",
    "```python\r\n",
    "def convert_kitti_bin_to_pcd(binFilePath, output_name):\r\n",
    "    size_float = 4\r\n",
    "    list_pcd = []\r\n",
    "    with open(binFilePath, \"rb\") as f:\r\n",
    "        byte = f.read(size_float * 4)\r\n",
    "        while byte:\r\n",
    "            x, y, z, intensity = struct.unpack(\"ffff\", byte)\r\n",
    "            list_pcd.append([x, y, z])\r\n",
    "            byte = f.read(size_float * 4)\r\n",
    "    np_pcd = np.asarray(list_pcd)\r\n",
    "    pcd = o3d.geometry.PointCloud()\r\n",
    "    pcd.points = o3d.utility.Vector3dVector(np_pcd)\r\n",
    "    o3d.io.write_point_cloud(output_name, pcd)"
   ]
  },
  {
   "cell_type": "markdown",
   "id": "7668cb12-e55e-4b6e-aae7-3bfe21078847",
   "metadata": {},
   "source": [
    "# Data Visualization\n",
    "\n",
    "In this first part we will observe the 3D pointcloud data. Per the kitty dataset its format is x, y, z, and intensity.  "
   ]
  },
  {
   "cell_type": "code",
   "execution_count": 2,
   "id": "c1691acd-3cf2-4f5a-a20f-c7fa0711e25a",
   "metadata": {},
   "outputs": [
    {
     "name": "stdout",
     "output_type": "stream",
     "text": [
      "['../DATA/lidar_data\\\\0000000000.pcd', '../DATA/lidar_data\\\\0000000001.pcd', '../DATA/lidar_data\\\\0000000002.pcd']\n"
     ]
    }
   ],
   "source": [
    "#Lets first load the data\n",
    "lidar_data_path = \"../DATA/lidar_data/*.pcd\"\n",
    "lidar_file_names = sorted(glob.glob(lidar_data_path))\n",
    "print(lidar_file_names[0:3])"
   ]
  },
  {
   "cell_type": "code",
   "execution_count": 3,
   "id": "b31a72dc-bcfd-4d1a-87c9-93b1a0a281b5",
   "metadata": {},
   "outputs": [
    {
     "name": "stdout",
     "output_type": "stream",
     "text": [
      "../DATA/lidar_data\\0000000000.pcd\n"
     ]
    }
   ],
   "source": [
    "#We only need to work with one let us use the first one\n",
    "lidar_file = lidar_file_names[0]\n",
    "print(lidar_file)"
   ]
  },
  {
   "cell_type": "code",
   "execution_count": 4,
   "id": "885dbd25-ecac-4436-8bbd-47dfc610ae89",
   "metadata": {},
   "outputs": [],
   "source": [
    "#Read lidar file and create pointcloud data for vizualization\n",
    "point_cloud = o3d.io.read_point_cloud(lidar_file)"
   ]
  },
  {
   "cell_type": "markdown",
   "id": "c837957b-a6ca-4164-81aa-8420cbdcf8cb",
   "metadata": {},
   "source": [
    "Note: To visualized in open3d there is no need do as below, however this is was done to make the visualizer more asthetically pleasing. To simply visuzlize your point cloud all you need to do is\n",
    "\n",
    "```python\n",
    "# Visualize the point cloud\n",
    "o3d.visualization.draw_geometries([point_cloud])"
   ]
  },
  {
   "cell_type": "code",
   "execution_count": 5,
   "id": "1daaa216-9e7f-4074-abf0-8c33a6c48b75",
   "metadata": {},
   "outputs": [],
   "source": [
    "#We will create a function to visuzlize the object with some extra adjustments\n",
    "def visualize_cloud(obj_list):\n",
    "    \"\"\"\n",
    "    Function modifies the Open3D visualizer for better display. \n",
    "\n",
    "    Parameters:\n",
    "    obj_list (list): A list of objects to visualize this can be multiple point clouds, bounding box data, etc\n",
    "\n",
    "    Returns:\n",
    "    type: Void\n",
    "    \"\"\"\n",
    "    \n",
    "    # Create a visualizer object\n",
    "    viz = o3d.visualization.Visualizer()\n",
    "    viz.create_window()\n",
    "    \n",
    "    # Add each object to the vizualizer\n",
    "    for obj in obj_list:\n",
    "        viz.add_geometry(obj)\n",
    "    \n",
    "    #Set the background color to black\n",
    "    opt = viz.get_render_option()\n",
    "    opt.background_color = np.array([0, 0, 0])  # RGB values for black\n",
    "    \n",
    "    #Run the visualizer\n",
    "    viz.run()\n",
    "    viz.destroy_window()\n",
    "    "
   ]
  },
  {
   "cell_type": "markdown",
   "id": "2ba360d6-cca9-4510-b772-9658bdb200f1",
   "metadata": {},
   "source": [
    "Lets call the function the output will be rendered on a different window however its ouput is shown below. "
   ]
  },
  {
   "cell_type": "code",
   "execution_count": 6,
   "id": "bbf23085-dced-436c-a306-bb3231900864",
   "metadata": {},
   "outputs": [],
   "source": [
    "#Rememeber a list is expected\n",
    "visualize_cloud([point_cloud])"
   ]
  },
  {
   "cell_type": "markdown",
   "id": "964dea47-9ce2-48da-8c86-145a9d638b71",
   "metadata": {},
   "source": [
    "### Output\n",
    "\n",
    "![Point Cloud Visualization](../Doc_Images/UNSUPERVISED_DOC_IMAGES/output_1.png)\r\n"
   ]
  },
  {
   "cell_type": "markdown",
   "id": "c845434e-bf2e-4602-9595-44b09e956ec9",
   "metadata": {},
   "source": [
    "In the center of the point cloud, a distinct circular pattern is evident. This pattern corresponds to the position of the LiDAR device. A closer examination of the point cloud's structure will provide further understanding of the data characteristics.\r\n"
   ]
  },
  {
   "cell_type": "code",
   "execution_count": 7,
   "id": "24af25b3-21b5-49df-bbd3-996ae31c599d",
   "metadata": {},
   "outputs": [
    {
     "name": "stdout",
     "output_type": "stream",
     "text": [
      "(122595, 3)\n"
     ]
    }
   ],
   "source": [
    "#Lets convert the point cloud to a numpy array\n",
    "point_cloud_numpy = np.asarray(point_cloud.points)\n",
    "print(point_cloud_numpy.shape)\n",
    "del point_cloud_numpy"
   ]
  },
  {
   "cell_type": "markdown",
   "id": "51a15da8-27db-42fd-99e8-c704f62fdb35",
   "metadata": {},
   "source": [
    "### Point Cloud Array Structure\r\n",
    "\r\n",
    "The array is structured as `(N, 3)`, where:\r\n",
    "\r\n",
    "- `N` represents the **total number of points** within the point cloud.\r\n",
    "- Each point is defined by a coordinate triplet `(x, y, z)`, which indicates:\r\n",
    "  - `x, y, z`: The spatial location of each point in meters.\r\n",
    "  - The origin for these coordinates is the LiDAR system lities.\r\n",
    "ilities.\r\n",
    "itself."
   ]
  },
  {
   "cell_type": "markdown",
   "id": "346ece3f-062d-4b53-ae4c-148ed7fa39ed",
   "metadata": {},
   "source": [
    "### Additional LiDAR Data Dimensions\n",
    "\n",
    "In addition to the standard `x, y, z` coordinates, the type of LiDAR system used can provide a range of other data dimensions, including, but not limited to:\n",
    "\n",
    "- **Intensity**: This measures the reflectivity of surfaces, helping to differentiate materials based on how they reflect light.\n",
    "- **RGB Color Data**: Offers detailed color information of the scanned surfaces, useful for creating visually rich and accurate representations.\n",
    "- **Radial Velocity Data**: Available in some advanced LiDAR systems, this feature provides insights into the movement of objects or surfaces, adding a dynamic aspect to the data.\n",
    "\n",
    "These additional data dimensions significantly enrich the point cloud dataset, allowing for a more comprehensive analysis and enhanced visualization capabilities.\n"
   ]
  },
  {
   "cell_type": "markdown",
   "id": "0f31be1c-3009-404f-9292-dfedbdfc76c2",
   "metadata": {},
   "source": [
    "# Plane Segmentation Using Open3D\r\n",
    "Open3D offers a comprehensive set of tools for 3D LiDAR point cloud processing, one of which is the plane segmentation feature. This feature employs the RANSAC (Random Sample Consensus) algorithm, a robust method known for its ability to identify and segregate outliers from a dataset. In the context of point clouds, this approach is slightly modified: the 'inliers', or points sharing common characteristics, are typically the ground points, which are often not the focus of our analysis. Consequently, the RANSAC algorithm plays a crucial role in preprocessing by isolating and removing these ground points.\r\n",
    "\r\n",
    "This preprocessing is key to concentrating on the objects of interest, leading to more efficient data processing and enhanced clustering capabilities due to the reduced computational burden.\r\n",
    "\r\n",
    "In our scenario, we have the `point_cloud` variable, an instance of the `PointCloud` class, equipped with the `segment_plane` method. This method is instrumental in excluding ground points and operates based on three parameters, as detailed in the Open3D documentation:\r\n",
    "\r\n",
    "1. `distance_threshold`: Defines the maximum distance a point can be from the estimated plane to be considered an inlier.\r\n",
    "2. `ransac_n`: Sets the number of points randomly selected for estimating a plane.\r\n",
    "3. `num_iterations`: Specifies the frequency of random plane sampling and evaluation.\r\n",
    "\r\n",
    "The `segment_plane` method outputs the plane's equation in the format `(a, b, c, d)`, conforming to the plane equation `ax + by + cz + d = 0`. This equation is pivotal in differentiating inliers from outliers. Moreover, the method returns a list of indices representing the inlier points, which is invaluable for further data analysis and processing.rocessing.\r\n"
   ]
  },
  {
   "cell_type": "code",
   "execution_count": 8,
   "id": "7b4de582-7f7a-4139-93ca-aa452ff7f67f",
   "metadata": {},
   "outputs": [
    {
     "name": "stdout",
     "output_type": "stream",
     "text": [
      "Plane equation: -0.00x + 0.02y + 1.00z + 1.70 = 0\n"
     ]
    }
   ],
   "source": [
    "#Lets start with getting our inlier list and plane equation\n",
    "plane_model, inliers = point_cloud.segment_plane(distance_threshold=0.01,\n",
    "                                         ransac_n=3,\n",
    "                                         num_iterations=1000)\n",
    "[a, b, c, d] = plane_model\n",
    "print(f\"Plane equation: {a:.2f}x + {b:.2f}y + {c:.2f}z + {d:.2f} = 0\")"
   ]
  },
  {
   "cell_type": "code",
   "execution_count": 10,
   "id": "86b7b1c7-f6dd-4f4d-b77c-8893a043d97d",
   "metadata": {},
   "outputs": [
    {
     "name": "stdout",
     "output_type": "stream",
     "text": [
      "[Open3D WARNING] GLFW Error: The GLFW library is not initialized\n",
      "[Open3D WARNING] [PhongShaderForTriangleMesh] Compiling shaders failed.\n"
     ]
    }
   ],
   "source": [
    "#Let us visualize the inlier cloud. Remember inliers is a list of indexes of the points that are considered to be inliers by the algorithm\n",
    "inlier_cloud = point_cloud.select_by_index(inliers)\n",
    "#Let us paint these points green remember standard RGB is R, G, B\n",
    "inlier_cloud.paint_uniform_color([0, 1.0, 0])\n",
    "#Lets now visualize the point cloud\n",
    "viz.add_geometry(inlier_cloud)\n",
    "#Run the visualizer\n",
    "viz.run()\n",
    "viz.destroy_window()"
   ]
  },
  {
   "cell_type": "markdown",
   "id": "f0acb4c5-68d3-44bd-97b6-6422bc87496a",
   "metadata": {},
   "source": [
    "# DBSCAN clustering"
   ]
  },
  {
   "cell_type": "markdown",
   "id": "3c8d8fc3-54b0-494b-9854-8b312e9780f8",
   "metadata": {},
   "source": [
    "# Voxel downsampling"
   ]
  },
  {
   "cell_type": "code",
   "execution_count": null,
   "id": "8c850ca0-d692-430c-a95b-e8e4b9dde0e4",
   "metadata": {},
   "outputs": [],
   "source": []
  }
 ],
 "metadata": {
  "kernelspec": {
   "display_name": "Python 3 (ipykernel)",
   "language": "python",
   "name": "python3"
  },
  "language_info": {
   "codemirror_mode": {
    "name": "ipython",
    "version": 3
   },
   "file_extension": ".py",
   "mimetype": "text/x-python",
   "name": "python",
   "nbconvert_exporter": "python",
   "pygments_lexer": "ipython3",
   "version": "3.9.12"
  }
 },
 "nbformat": 4,
 "nbformat_minor": 5
}
