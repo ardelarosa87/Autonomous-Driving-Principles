{
 "cells": [
  {
   "cell_type": "code",
   "execution_count": 1,
   "id": "4c8545d3-63e4-4ee1-8db8-62236976046b",
   "metadata": {},
   "outputs": [
    {
     "name": "stdout",
     "output_type": "stream",
     "text": [
      "Jupyter environment detected. Enabling Open3D WebVisualizer.\n",
      "[Open3D INFO] WebRTC GUI backend enabled.\n",
      "[Open3D INFO] WebRTCWindowSystem: HTTP handshake server disabled.\n"
     ]
    }
   ],
   "source": [
    "#Let us first import necessary libararies\n",
    "import numpy as np\n",
    "import glob\n",
    "import open3d as o3d"
   ]
  },
  {
   "cell_type": "markdown",
   "id": "106d31b3-79fa-416e-9bae-56de4afe8be3",
   "metadata": {},
   "source": [
    "## Data Conversion\r\n",
    "\r\n",
    "The lidar data from the KITTI dataset is in `.bin` format which is currently not an accepted format in Open3D, hence this is converted to its `.pcd` equivalent. This has already been done for you and is located in the DATA folder of the main repo. However, should you come to work with the KITTI dataset yourself, here is the code to convert `.bin` files to `.pcd`, courtesy of [this Gist](https://gist.github.com/HTLife/e8f1c4ff1737710e34258ef965b48344).\r\n",
    "\r\n",
    "However, this version has some errors, and thus, I have modified it for your convenience:\r\n",
    "\r\n",
    "```python\r\n",
    "def convert_kitti_bin_to_pcd(binFilePath, output_name):\r\n",
    "    size_float = 4\r\n",
    "    list_pcd = []\r\n",
    "    with open(binFilePath, \"rb\") as f:\r\n",
    "        byte = f.read(size_float * 4)\r\n",
    "        while byte:\r\n",
    "            x, y, z, intensity = struct.unpack(\"ffff\", byte)\r\n",
    "            list_pcd.append([x, y, z])\r\n",
    "            byte = f.read(size_float * 4)\r\n",
    "    np_pcd = np.asarray(list_pcd)\r\n",
    "    pcd = o3d.geometry.PointCloud()\r\n",
    "    pcd.points = o3d.utility.Vector3dVector(np_pcd)\r\n",
    "    o3d.io.write_point_cloud(output_name, pcd)"
   ]
  },
  {
   "cell_type": "markdown",
   "id": "7668cb12-e55e-4b6e-aae7-3bfe21078847",
   "metadata": {},
   "source": [
    "# Data Visualization\n",
    "\n",
    "In this first part we will observe the 3D pointcloud data. Per the kitty dataset its format is x, y, z, and intensity.  "
   ]
  },
  {
   "cell_type": "code",
   "execution_count": 2,
   "id": "c1691acd-3cf2-4f5a-a20f-c7fa0711e25a",
   "metadata": {},
   "outputs": [
    {
     "name": "stdout",
     "output_type": "stream",
     "text": [
      "['../DATA/lidar_data\\\\0000000000.pcd', '../DATA/lidar_data\\\\0000000001.pcd', '../DATA/lidar_data\\\\0000000002.pcd']\n"
     ]
    }
   ],
   "source": [
    "#Lets first load the data\n",
    "lidar_data_path = \"../DATA/lidar_data/*.pcd\"\n",
    "lidar_file_names = sorted(glob.glob(lidar_data_path))\n",
    "print(lidar_file_names[0:3])"
   ]
  },
  {
   "cell_type": "code",
   "execution_count": 3,
   "id": "b31a72dc-bcfd-4d1a-87c9-93b1a0a281b5",
   "metadata": {},
   "outputs": [
    {
     "name": "stdout",
     "output_type": "stream",
     "text": [
      "../DATA/lidar_data\\0000000000.pcd\n"
     ]
    }
   ],
   "source": [
    "#We only need to work with one let us use the first one\n",
    "lidar_file = lidar_file_names[0]\n",
    "print(lidar_file)"
   ]
  },
  {
   "cell_type": "code",
   "execution_count": 5,
   "id": "885dbd25-ecac-4436-8bbd-47dfc610ae89",
   "metadata": {},
   "outputs": [],
   "source": [
    "#Read lidar file and create pointcloud data for vizualization\n",
    "pcd = o3d.io.read_point_cloud(lidar_file)"
   ]
  },
  {
   "cell_type": "markdown",
   "id": "c837957b-a6ca-4164-81aa-8420cbdcf8cb",
   "metadata": {},
   "source": [
    "Note: To visualized in open3d there is no need do as below, however this is was done to make the visualizer more asthetically pleasing. To simply visuzlize your point cloud all you need to do is\n",
    "\n",
    "```python\n",
    "# Visualize the point cloud\n",
    "o3d.visualization.draw_geometries([pcd])"
   ]
  },
  {
   "cell_type": "code",
   "execution_count": 7,
   "id": "01cf14c9-cc80-4f94-8e7a-e089a2bc8604",
   "metadata": {},
   "outputs": [],
   "source": [
    "# Create a visualizer object\n",
    "viz = o3d.visualization.Visualizer()\n",
    "viz.create_window()\n",
    "\n",
    "# Add the point cloud to the viz object\n",
    "viz.add_geometry(pcd)\n",
    "\n",
    "#Set the background color to black\n",
    "opt = viz.get_render_option()\n",
    "opt.background_color = np.array([0, 0, 0])  # RGB values for black\n",
    "\n",
    "#Run the visualizer\n",
    "viz.run()\n",
    "viz.destroy_window()"
   ]
  },
  {
   "cell_type": "markdown",
   "id": "964dea47-9ce2-48da-8c86-145a9d638b71",
   "metadata": {},
   "source": [
    "### Output\n",
    "\n",
    "![Point Cloud Visualization](../DOC_IMAGES/UNSUPERVISED_DOC_IMAGES/output_1.png)\r\n"
   ]
  },
  {
   "cell_type": "markdown",
   "id": "3aede713-70fd-4a65-ba36-16b33e5a5cd4",
   "metadata": {},
   "source": [
    "# Plane segmentation"
   ]
  },
  {
   "cell_type": "markdown",
   "id": "f0acb4c5-68d3-44bd-97b6-6422bc87496a",
   "metadata": {},
   "source": [
    "# DBSCAN clustering"
   ]
  },
  {
   "cell_type": "markdown",
   "id": "3c8d8fc3-54b0-494b-9854-8b312e9780f8",
   "metadata": {},
   "source": [
    "# Voxel downsampling"
   ]
  },
  {
   "cell_type": "code",
   "execution_count": null,
   "id": "8c850ca0-d692-430c-a95b-e8e4b9dde0e4",
   "metadata": {},
   "outputs": [],
   "source": []
  }
 ],
 "metadata": {
  "kernelspec": {
   "display_name": "Python 3 (ipykernel)",
   "language": "python",
   "name": "python3"
  },
  "language_info": {
   "codemirror_mode": {
    "name": "ipython",
    "version": 3
   },
   "file_extension": ".py",
   "mimetype": "text/x-python",
   "name": "python",
   "nbconvert_exporter": "python",
   "pygments_lexer": "ipython3",
   "version": "3.9.12"
  }
 },
 "nbformat": 4,
 "nbformat_minor": 5
}
